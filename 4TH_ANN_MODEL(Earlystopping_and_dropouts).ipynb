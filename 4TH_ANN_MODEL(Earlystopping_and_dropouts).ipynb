{
  "nbformat": 4,
  "nbformat_minor": 0,
  "metadata": {
    "colab": {
      "provenance": [],
      "authorship_tag": "ABX9TyO+Pt9iHKvHlwwOwA29GG68",
      "include_colab_link": true
    },
    "kernelspec": {
      "name": "python3",
      "display_name": "Python 3"
    },
    "language_info": {
      "name": "python"
    }
  },
  "cells": [
    {
      "cell_type": "markdown",
      "metadata": {
        "id": "view-in-github",
        "colab_type": "text"
      },
      "source": [
        "<a href=\"https://colab.research.google.com/github/Aadityasindhuu/Aadityasindhuu/blob/main/4TH_ANN_MODEL(Earlystopping_and_dropouts).ipynb\" target=\"_parent\"><img src=\"https://colab.research.google.com/assets/colab-badge.svg\" alt=\"Open In Colab\"/></a>"
      ]
    },
    {
      "cell_type": "code",
      "execution_count": null,
      "metadata": {
        "colab": {
          "base_uri": "https://localhost:8080/",
          "height": 73
        },
        "id": "S0gfaq7gX7Xx",
        "outputId": "41c96d3d-fa5e-4e5b-9ce2-943df90a557e"
      },
      "outputs": [
        {
          "output_type": "display_data",
          "data": {
            "text/plain": [
              "<IPython.core.display.HTML object>"
            ],
            "text/html": [
              "\n",
              "     <input type=\"file\" id=\"files-7a621168-da6e-42c5-bc79-c796b7cfa322\" name=\"files[]\" multiple disabled\n",
              "        style=\"border:none\" />\n",
              "     <output id=\"result-7a621168-da6e-42c5-bc79-c796b7cfa322\">\n",
              "      Upload widget is only available when the cell has been executed in the\n",
              "      current browser session. Please rerun this cell to enable.\n",
              "      </output>\n",
              "      <script>// Copyright 2017 Google LLC\n",
              "//\n",
              "// Licensed under the Apache License, Version 2.0 (the \"License\");\n",
              "// you may not use this file except in compliance with the License.\n",
              "// You may obtain a copy of the License at\n",
              "//\n",
              "//      http://www.apache.org/licenses/LICENSE-2.0\n",
              "//\n",
              "// Unless required by applicable law or agreed to in writing, software\n",
              "// distributed under the License is distributed on an \"AS IS\" BASIS,\n",
              "// WITHOUT WARRANTIES OR CONDITIONS OF ANY KIND, either express or implied.\n",
              "// See the License for the specific language governing permissions and\n",
              "// limitations under the License.\n",
              "\n",
              "/**\n",
              " * @fileoverview Helpers for google.colab Python module.\n",
              " */\n",
              "(function(scope) {\n",
              "function span(text, styleAttributes = {}) {\n",
              "  const element = document.createElement('span');\n",
              "  element.textContent = text;\n",
              "  for (const key of Object.keys(styleAttributes)) {\n",
              "    element.style[key] = styleAttributes[key];\n",
              "  }\n",
              "  return element;\n",
              "}\n",
              "\n",
              "// Max number of bytes which will be uploaded at a time.\n",
              "const MAX_PAYLOAD_SIZE = 100 * 1024;\n",
              "\n",
              "function _uploadFiles(inputId, outputId) {\n",
              "  const steps = uploadFilesStep(inputId, outputId);\n",
              "  const outputElement = document.getElementById(outputId);\n",
              "  // Cache steps on the outputElement to make it available for the next call\n",
              "  // to uploadFilesContinue from Python.\n",
              "  outputElement.steps = steps;\n",
              "\n",
              "  return _uploadFilesContinue(outputId);\n",
              "}\n",
              "\n",
              "// This is roughly an async generator (not supported in the browser yet),\n",
              "// where there are multiple asynchronous steps and the Python side is going\n",
              "// to poll for completion of each step.\n",
              "// This uses a Promise to block the python side on completion of each step,\n",
              "// then passes the result of the previous step as the input to the next step.\n",
              "function _uploadFilesContinue(outputId) {\n",
              "  const outputElement = document.getElementById(outputId);\n",
              "  const steps = outputElement.steps;\n",
              "\n",
              "  const next = steps.next(outputElement.lastPromiseValue);\n",
              "  return Promise.resolve(next.value.promise).then((value) => {\n",
              "    // Cache the last promise value to make it available to the next\n",
              "    // step of the generator.\n",
              "    outputElement.lastPromiseValue = value;\n",
              "    return next.value.response;\n",
              "  });\n",
              "}\n",
              "\n",
              "/**\n",
              " * Generator function which is called between each async step of the upload\n",
              " * process.\n",
              " * @param {string} inputId Element ID of the input file picker element.\n",
              " * @param {string} outputId Element ID of the output display.\n",
              " * @return {!Iterable<!Object>} Iterable of next steps.\n",
              " */\n",
              "function* uploadFilesStep(inputId, outputId) {\n",
              "  const inputElement = document.getElementById(inputId);\n",
              "  inputElement.disabled = false;\n",
              "\n",
              "  const outputElement = document.getElementById(outputId);\n",
              "  outputElement.innerHTML = '';\n",
              "\n",
              "  const pickedPromise = new Promise((resolve) => {\n",
              "    inputElement.addEventListener('change', (e) => {\n",
              "      resolve(e.target.files);\n",
              "    });\n",
              "  });\n",
              "\n",
              "  const cancel = document.createElement('button');\n",
              "  inputElement.parentElement.appendChild(cancel);\n",
              "  cancel.textContent = 'Cancel upload';\n",
              "  const cancelPromise = new Promise((resolve) => {\n",
              "    cancel.onclick = () => {\n",
              "      resolve(null);\n",
              "    };\n",
              "  });\n",
              "\n",
              "  // Wait for the user to pick the files.\n",
              "  const files = yield {\n",
              "    promise: Promise.race([pickedPromise, cancelPromise]),\n",
              "    response: {\n",
              "      action: 'starting',\n",
              "    }\n",
              "  };\n",
              "\n",
              "  cancel.remove();\n",
              "\n",
              "  // Disable the input element since further picks are not allowed.\n",
              "  inputElement.disabled = true;\n",
              "\n",
              "  if (!files) {\n",
              "    return {\n",
              "      response: {\n",
              "        action: 'complete',\n",
              "      }\n",
              "    };\n",
              "  }\n",
              "\n",
              "  for (const file of files) {\n",
              "    const li = document.createElement('li');\n",
              "    li.append(span(file.name, {fontWeight: 'bold'}));\n",
              "    li.append(span(\n",
              "        `(${file.type || 'n/a'}) - ${file.size} bytes, ` +\n",
              "        `last modified: ${\n",
              "            file.lastModifiedDate ? file.lastModifiedDate.toLocaleDateString() :\n",
              "                                    'n/a'} - `));\n",
              "    const percent = span('0% done');\n",
              "    li.appendChild(percent);\n",
              "\n",
              "    outputElement.appendChild(li);\n",
              "\n",
              "    const fileDataPromise = new Promise((resolve) => {\n",
              "      const reader = new FileReader();\n",
              "      reader.onload = (e) => {\n",
              "        resolve(e.target.result);\n",
              "      };\n",
              "      reader.readAsArrayBuffer(file);\n",
              "    });\n",
              "    // Wait for the data to be ready.\n",
              "    let fileData = yield {\n",
              "      promise: fileDataPromise,\n",
              "      response: {\n",
              "        action: 'continue',\n",
              "      }\n",
              "    };\n",
              "\n",
              "    // Use a chunked sending to avoid message size limits. See b/62115660.\n",
              "    let position = 0;\n",
              "    do {\n",
              "      const length = Math.min(fileData.byteLength - position, MAX_PAYLOAD_SIZE);\n",
              "      const chunk = new Uint8Array(fileData, position, length);\n",
              "      position += length;\n",
              "\n",
              "      const base64 = btoa(String.fromCharCode.apply(null, chunk));\n",
              "      yield {\n",
              "        response: {\n",
              "          action: 'append',\n",
              "          file: file.name,\n",
              "          data: base64,\n",
              "        },\n",
              "      };\n",
              "\n",
              "      let percentDone = fileData.byteLength === 0 ?\n",
              "          100 :\n",
              "          Math.round((position / fileData.byteLength) * 100);\n",
              "      percent.textContent = `${percentDone}% done`;\n",
              "\n",
              "    } while (position < fileData.byteLength);\n",
              "  }\n",
              "\n",
              "  // All done.\n",
              "  yield {\n",
              "    response: {\n",
              "      action: 'complete',\n",
              "    }\n",
              "  };\n",
              "}\n",
              "\n",
              "scope.google = scope.google || {};\n",
              "scope.google.colab = scope.google.colab || {};\n",
              "scope.google.colab._files = {\n",
              "  _uploadFiles,\n",
              "  _uploadFilesContinue,\n",
              "};\n",
              "})(self);\n",
              "</script> "
            ]
          },
          "metadata": {}
        },
        {
          "output_type": "stream",
          "name": "stdout",
          "text": [
            "Saving diabetes2.0.csv to diabetes2.0.csv\n"
          ]
        }
      ],
      "source": [
        "import numpy as np\n",
        "import pandas as pd\n",
        "import tensorflow as tf\n",
        "from tensorflow import keras\n",
        "from tensorflow.keras import layers\n",
        "from sklearn.model_selection import train_test_split\n",
        "from sklearn.preprocessing import StandardScaler\n",
        "from tensorflow.keras.callbacks import EarlyStopping\n",
        "\n",
        "\n",
        "\n",
        "\n",
        "# Load the CSV dataset\n",
        "from google.colab import files\n",
        "uploaded = files.upload()\n",
        "\n",
        "dataset = pd.read_csv(\"diabetes2.0.csv\")\n",
        "\n",
        "\n"
      ]
    },
    {
      "cell_type": "code",
      "source": [
        "X = dataset.drop(columns=['Insulin'])\n",
        "y = dataset['SkinThickness']\n"
      ],
      "metadata": {
        "id": "zEInlJ75g0s1"
      },
      "execution_count": null,
      "outputs": []
    },
    {
      "cell_type": "code",
      "source": [
        "X_train, X_test, y_train, y_test = train_test_split(X, y, test_size=0.2, random_state=42)\n"
      ],
      "metadata": {
        "id": "8F2mnxEJhacA"
      },
      "execution_count": null,
      "outputs": []
    },
    {
      "cell_type": "code",
      "source": [
        "scaler = StandardScaler()\n",
        "X_train_scaled = scaler.fit_transform(X_train)\n",
        "X_test_scaled = scaler.transform(X_test)\n"
      ],
      "metadata": {
        "id": "ik2_weQghglo"
      },
      "execution_count": null,
      "outputs": []
    },
    {
      "cell_type": "code",
      "source": [
        "model = keras.Sequential([\n",
        "    layers.Dense(256, activation='relu', input_shape=(X_train_scaled.shape[1],)),\n",
        "    layers.Dropout(0.2),\n",
        "    layers.Dense(128, activation='relu'),\n",
        "    layers.Dropout(0.2),\n",
        "    layers.Dense(1, activation='sigmoid')\n",
        "])\n",
        "\n"
      ],
      "metadata": {
        "id": "fHH4y2czjEDa"
      },
      "execution_count": null,
      "outputs": []
    },
    {
      "cell_type": "code",
      "source": [
        "model.compile(optimizer='adam',\n",
        "              loss='binary_crossentropy',\n",
        "              metrics=['accuracy'])\n"
      ],
      "metadata": {
        "id": "7BHeoEujkAIC"
      },
      "execution_count": null,
      "outputs": []
    },
    {
      "cell_type": "code",
      "source": [
        "early_stopping = EarlyStopping(monitor='val_loss', patience=5, restore_best_weights=True)\n"
      ],
      "metadata": {
        "id": "lRe6tvxtkFHv"
      },
      "execution_count": null,
      "outputs": []
    },
    {
      "cell_type": "code",
      "source": [
        "history = model.fit(X_train_scaled, y_train, epochs=55, batch_size=60, validation_split=0.2, callbacks=[early_stopping])\n"
      ],
      "metadata": {
        "colab": {
          "base_uri": "https://localhost:8080/"
        },
        "id": "3GbkVdYLkJoQ",
        "outputId": "6d38a6dc-d826-4d22-db87-93039878156e"
      },
      "execution_count": null,
      "outputs": [
        {
          "output_type": "stream",
          "name": "stdout",
          "text": [
            "Epoch 1/55\n",
            "9/9 [==============================] - 1s 50ms/step - loss: -8.1381 - accuracy: 0.0692 - val_loss: -29.7746 - val_accuracy: 0.0000e+00\n",
            "Epoch 2/55\n",
            "9/9 [==============================] - 0s 12ms/step - loss: -43.3303 - accuracy: 0.0000e+00 - val_loss: -72.0681 - val_accuracy: 0.0000e+00\n",
            "Epoch 3/55\n",
            "9/9 [==============================] - 0s 13ms/step - loss: -90.6830 - accuracy: 0.0000e+00 - val_loss: -135.8189 - val_accuracy: 0.0000e+00\n",
            "Epoch 4/55\n",
            "9/9 [==============================] - 0s 14ms/step - loss: -164.2320 - accuracy: 0.0000e+00 - val_loss: -231.4488 - val_accuracy: 0.0000e+00\n",
            "Epoch 5/55\n",
            "9/9 [==============================] - 0s 12ms/step - loss: -272.9750 - accuracy: 0.0000e+00 - val_loss: -374.9272 - val_accuracy: 0.0000e+00\n",
            "Epoch 6/55\n",
            "9/9 [==============================] - 0s 11ms/step - loss: -427.3591 - accuracy: 0.0000e+00 - val_loss: -577.0887 - val_accuracy: 0.0000e+00\n",
            "Epoch 7/55\n",
            "9/9 [==============================] - 0s 12ms/step - loss: -656.3565 - accuracy: 0.0000e+00 - val_loss: -859.5139 - val_accuracy: 0.0000e+00\n",
            "Epoch 8/55\n",
            "9/9 [==============================] - 0s 12ms/step - loss: -971.7769 - accuracy: 0.0000e+00 - val_loss: -1237.3867 - val_accuracy: 0.0000e+00\n",
            "Epoch 9/55\n",
            "9/9 [==============================] - 0s 14ms/step - loss: -1393.8186 - accuracy: 0.0000e+00 - val_loss: -1737.7394 - val_accuracy: 0.0000e+00\n",
            "Epoch 10/55\n",
            "9/9 [==============================] - 0s 13ms/step - loss: -1937.7335 - accuracy: 0.0000e+00 - val_loss: -2377.8396 - val_accuracy: 0.0000e+00\n",
            "Epoch 11/55\n",
            "9/9 [==============================] - 0s 13ms/step - loss: -2630.7476 - accuracy: 0.0000e+00 - val_loss: -3180.1877 - val_accuracy: 0.0000e+00\n",
            "Epoch 12/55\n",
            "9/9 [==============================] - 0s 16ms/step - loss: -3531.3525 - accuracy: 0.0000e+00 - val_loss: -4181.2534 - val_accuracy: 0.0000e+00\n",
            "Epoch 13/55\n",
            "9/9 [==============================] - 0s 11ms/step - loss: -4642.2871 - accuracy: 0.0000e+00 - val_loss: -5432.7856 - val_accuracy: 0.0000e+00\n",
            "Epoch 14/55\n",
            "9/9 [==============================] - 0s 13ms/step - loss: -5908.7764 - accuracy: 0.0000e+00 - val_loss: -6897.6445 - val_accuracy: 0.0000e+00\n",
            "Epoch 15/55\n",
            "9/9 [==============================] - 0s 13ms/step - loss: -7582.3086 - accuracy: 0.0000e+00 - val_loss: -8660.2275 - val_accuracy: 0.0000e+00\n",
            "Epoch 16/55\n",
            "9/9 [==============================] - 0s 12ms/step - loss: -9429.8506 - accuracy: 0.0000e+00 - val_loss: -10740.7705 - val_accuracy: 0.0000e+00\n",
            "Epoch 17/55\n",
            "9/9 [==============================] - 0s 8ms/step - loss: -11578.7588 - accuracy: 0.0000e+00 - val_loss: -13146.9805 - val_accuracy: 0.0000e+00\n",
            "Epoch 18/55\n",
            "9/9 [==============================] - 0s 8ms/step - loss: -14255.5244 - accuracy: 0.0000e+00 - val_loss: -15898.4072 - val_accuracy: 0.0000e+00\n",
            "Epoch 19/55\n",
            "9/9 [==============================] - 0s 7ms/step - loss: -17343.9902 - accuracy: 0.0000e+00 - val_loss: -19083.7188 - val_accuracy: 0.0000e+00\n",
            "Epoch 20/55\n",
            "9/9 [==============================] - 0s 7ms/step - loss: -20646.4121 - accuracy: 0.0000e+00 - val_loss: -22560.8418 - val_accuracy: 0.0000e+00\n",
            "Epoch 21/55\n",
            "9/9 [==============================] - 0s 9ms/step - loss: -23961.4883 - accuracy: 0.0000e+00 - val_loss: -26441.9824 - val_accuracy: 0.0000e+00\n",
            "Epoch 22/55\n",
            "9/9 [==============================] - 0s 7ms/step - loss: -28631.9219 - accuracy: 0.0000e+00 - val_loss: -30725.1680 - val_accuracy: 0.0000e+00\n",
            "Epoch 23/55\n",
            "9/9 [==============================] - 0s 10ms/step - loss: -32849.6445 - accuracy: 0.0000e+00 - val_loss: -35648.5117 - val_accuracy: 0.0000e+00\n",
            "Epoch 24/55\n",
            "9/9 [==============================] - 0s 9ms/step - loss: -37970.8672 - accuracy: 0.0000e+00 - val_loss: -40959.9883 - val_accuracy: 0.0000e+00\n",
            "Epoch 25/55\n",
            "9/9 [==============================] - 0s 9ms/step - loss: -43215.8789 - accuracy: 0.0000e+00 - val_loss: -46649.1172 - val_accuracy: 0.0000e+00\n",
            "Epoch 26/55\n",
            "9/9 [==============================] - 0s 7ms/step - loss: -49326.2852 - accuracy: 0.0000e+00 - val_loss: -52911.4531 - val_accuracy: 0.0000e+00\n",
            "Epoch 27/55\n",
            "9/9 [==============================] - 0s 9ms/step - loss: -56638.8477 - accuracy: 0.0000e+00 - val_loss: -59641.7617 - val_accuracy: 0.0000e+00\n",
            "Epoch 28/55\n",
            "9/9 [==============================] - 0s 7ms/step - loss: -63229.3359 - accuracy: 0.0000e+00 - val_loss: -67071.1641 - val_accuracy: 0.0000e+00\n",
            "Epoch 29/55\n",
            "9/9 [==============================] - 0s 10ms/step - loss: -71711.4609 - accuracy: 0.0000e+00 - val_loss: -75293.3828 - val_accuracy: 0.0000e+00\n",
            "Epoch 30/55\n",
            "9/9 [==============================] - 0s 8ms/step - loss: -80175.2266 - accuracy: 0.0000e+00 - val_loss: -83938.7188 - val_accuracy: 0.0000e+00\n",
            "Epoch 31/55\n",
            "9/9 [==============================] - 0s 9ms/step - loss: -88230.9375 - accuracy: 0.0000e+00 - val_loss: -93404.8125 - val_accuracy: 0.0000e+00\n",
            "Epoch 32/55\n",
            "9/9 [==============================] - 0s 7ms/step - loss: -99421.6094 - accuracy: 0.0000e+00 - val_loss: -103358.9922 - val_accuracy: 0.0000e+00\n",
            "Epoch 33/55\n",
            "9/9 [==============================] - 0s 9ms/step - loss: -110783.8828 - accuracy: 0.0000e+00 - val_loss: -114293.9766 - val_accuracy: 0.0000e+00\n",
            "Epoch 34/55\n",
            "9/9 [==============================] - 0s 9ms/step - loss: -120249.0391 - accuracy: 0.0000e+00 - val_loss: -125820.5312 - val_accuracy: 0.0000e+00\n",
            "Epoch 35/55\n",
            "9/9 [==============================] - 0s 7ms/step - loss: -133920.6250 - accuracy: 0.0000e+00 - val_loss: -138061.2500 - val_accuracy: 0.0000e+00\n",
            "Epoch 36/55\n",
            "9/9 [==============================] - 0s 11ms/step - loss: -145713.2031 - accuracy: 0.0000e+00 - val_loss: -151393.3438 - val_accuracy: 0.0000e+00\n",
            "Epoch 37/55\n",
            "9/9 [==============================] - 0s 8ms/step - loss: -162100.3438 - accuracy: 0.0000e+00 - val_loss: -165917.2969 - val_accuracy: 0.0000e+00\n",
            "Epoch 38/55\n",
            "9/9 [==============================] - 0s 8ms/step - loss: -176834.5312 - accuracy: 0.0000e+00 - val_loss: -180743.2188 - val_accuracy: 0.0000e+00\n",
            "Epoch 39/55\n",
            "9/9 [==============================] - 0s 9ms/step - loss: -188742.9375 - accuracy: 0.0000e+00 - val_loss: -196454.8906 - val_accuracy: 0.0000e+00\n",
            "Epoch 40/55\n",
            "9/9 [==============================] - 0s 9ms/step - loss: -207857.9688 - accuracy: 0.0000e+00 - val_loss: -213113.3750 - val_accuracy: 0.0000e+00\n",
            "Epoch 41/55\n",
            "9/9 [==============================] - 0s 9ms/step - loss: -224325.9531 - accuracy: 0.0000e+00 - val_loss: -230367.3906 - val_accuracy: 0.0000e+00\n",
            "Epoch 42/55\n",
            "9/9 [==============================] - 0s 8ms/step - loss: -242693.4375 - accuracy: 0.0000e+00 - val_loss: -248156.8906 - val_accuracy: 0.0000e+00\n",
            "Epoch 43/55\n",
            "9/9 [==============================] - 0s 7ms/step - loss: -259030.9688 - accuracy: 0.0000e+00 - val_loss: -266949.7188 - val_accuracy: 0.0000e+00\n",
            "Epoch 44/55\n",
            "9/9 [==============================] - 0s 8ms/step - loss: -279705.4062 - accuracy: 0.0000e+00 - val_loss: -286755.7812 - val_accuracy: 0.0000e+00\n",
            "Epoch 45/55\n",
            "9/9 [==============================] - 0s 7ms/step - loss: -302265.0000 - accuracy: 0.0000e+00 - val_loss: -307862.9062 - val_accuracy: 0.0000e+00\n",
            "Epoch 46/55\n",
            "9/9 [==============================] - 0s 8ms/step - loss: -322837.6562 - accuracy: 0.0000e+00 - val_loss: -330183.0625 - val_accuracy: 0.0000e+00\n",
            "Epoch 47/55\n",
            "9/9 [==============================] - 0s 9ms/step - loss: -344910.2812 - accuracy: 0.0000e+00 - val_loss: -353257.7812 - val_accuracy: 0.0000e+00\n",
            "Epoch 48/55\n",
            "9/9 [==============================] - 0s 8ms/step - loss: -367424.5312 - accuracy: 0.0000e+00 - val_loss: -376807.5312 - val_accuracy: 0.0000e+00\n",
            "Epoch 49/55\n",
            "9/9 [==============================] - 0s 9ms/step - loss: -393583.8438 - accuracy: 0.0000e+00 - val_loss: -401370.7188 - val_accuracy: 0.0000e+00\n",
            "Epoch 50/55\n",
            "9/9 [==============================] - 0s 8ms/step - loss: -423442.1250 - accuracy: 0.0000e+00 - val_loss: -426949.4688 - val_accuracy: 0.0000e+00\n",
            "Epoch 51/55\n",
            "9/9 [==============================] - 0s 9ms/step - loss: -441863.8750 - accuracy: 0.0000e+00 - val_loss: -453665.5625 - val_accuracy: 0.0000e+00\n",
            "Epoch 52/55\n",
            "9/9 [==============================] - 0s 8ms/step - loss: -477991.7188 - accuracy: 0.0000e+00 - val_loss: -482320.8125 - val_accuracy: 0.0000e+00\n",
            "Epoch 53/55\n",
            "9/9 [==============================] - 0s 7ms/step - loss: -501630.5312 - accuracy: 0.0000e+00 - val_loss: -511807.8125 - val_accuracy: 0.0000e+00\n",
            "Epoch 54/55\n",
            "9/9 [==============================] - 0s 9ms/step - loss: -536934.7500 - accuracy: 0.0000e+00 - val_loss: -543265.1250 - val_accuracy: 0.0000e+00\n",
            "Epoch 55/55\n",
            "9/9 [==============================] - 0s 10ms/step - loss: -571533.6250 - accuracy: 0.0000e+00 - val_loss: -575696.4375 - val_accuracy: 0.0000e+00\n"
          ]
        }
      ]
    },
    {
      "cell_type": "code",
      "source": [
        "test_loss, test_acc = model.evaluate(X_test_scaled, y_test)\n",
        "print(f'Test accuracy: {test_acc:.4f}')\n"
      ],
      "metadata": {
        "colab": {
          "base_uri": "https://localhost:8080/"
        },
        "id": "btvkS4YhkKZ0",
        "outputId": "bd18bd1d-2860-4207-a4f8-010a3055e688"
      },
      "execution_count": null,
      "outputs": [
        {
          "output_type": "stream",
          "name": "stdout",
          "text": [
            "5/5 [==============================] - 0s 3ms/step - loss: -658291.8750 - accuracy: 0.0000e+00\n",
            "Test accuracy: 0.0000\n"
          ]
        }
      ]
    },
    {
      "cell_type": "code",
      "source": [
        "import matplotlib.pyplot as plt\n",
        "\n",
        "plt.plot(history.history['accuracy'], label='accuracy')\n",
        "plt.plot(history.history['val_accuracy'], label='val_accuracy')\n",
        "plt.xlabel('Epoch')\n",
        "plt.ylabel('Accuracy')\n",
        "plt.legend()\n",
        "plt.show()\n"
      ],
      "metadata": {
        "colab": {
          "base_uri": "https://localhost:8080/",
          "height": 449
        },
        "id": "2SsleZvTkYkP",
        "outputId": "b24bee4b-8579-47eb-82a2-3b62d4d3af99"
      },
      "execution_count": null,
      "outputs": [
        {
          "output_type": "display_data",
          "data": {
            "text/plain": [
              "<Figure size 640x480 with 1 Axes>"
            ],
            "image/png": "[encoded data removed]"
          },
          "metadata": {}
        }
      ]
    }
  ]
}