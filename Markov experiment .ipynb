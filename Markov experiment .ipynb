{
 "cells": [
  {
   "cell_type": "code",
   "execution_count": 1,
   "id": "05e1f926",
   "metadata": {},
   "outputs": [
    {
     "name": "stdout",
     "output_type": "stream",
     "text": [
      "Simulating Markov Process:\n",
      "Step 1: Moved from state 0 to state 0\n",
      "Step 2: Moved from state 0 to state 0\n",
      "Step 3: Moved from state 0 to state 0\n",
      "Step 4: Moved from state 0 to state 0\n",
      "Step 5: Moved from state 0 to state 0\n",
      "Step 6: Moved from state 1 to state 1\n",
      "Step 7: Moved from state 1 to state 1\n",
      "Step 8: Moved from state 0 to state 0\n",
      "Step 9: Moved from state 0 to state 0\n",
      "Step 10: Moved from state 0 to state 0\n"
     ]
    }
   ],
   "source": [
    "import numpy as np\n",
    "\n",
    "class MarkovProcess:\n",
    "    def __init__(self, transition_matrix, initial_state):\n",
    "        self.transition_matrix = transition_matrix\n",
    "        self.current_state = initial_state\n",
    "\n",
    "    def transition(self):\n",
    "        # Use the transition matrix to determine the next state\n",
    "        next_state = np.random.choice(len(self.transition_matrix), p=self.transition_matrix[self.current_state])\n",
    "        self.current_state = next_state\n",
    "        return next_state\n",
    "\n",
    "def main():\n",
    "    # Define the transition probability matrix\n",
    "    # Example: [[0.7, 0.3], [0.2, 0.8]] represents a two-state Markov process\n",
    "    # where the probability of staying in the current state is 0.7 and 0.8, respectively,\n",
    "    # and the probability of transitioning to the other state is 0.3 and 0.2, respectively.\n",
    "    transition_matrix = np.array([[0.7, 0.3], [0.2, 0.8]])\n",
    "\n",
    "    # Initial state\n",
    "    initial_state = 0\n",
    "\n",
    "    # Create a Markov process with the defined transition matrix and initial state\n",
    "    markov_process = MarkovProcess(transition_matrix, initial_state)\n",
    "\n",
    "    # Simulate transitions\n",
    "    num_steps = 10\n",
    "    print(\"Simulating Markov Process:\")\n",
    "    for step in range(num_steps):\n",
    "        next_state = markov_process.transition()\n",
    "        print(f\"Step {step + 1}: Moved from state {markov_process.current_state} to state {next_state}\")\n",
    "\n",
    "if __name__ == \"__main__\":\n",
    "    main()\n"
   ]
  },
  {
   "cell_type": "code",
   "execution_count": null,
   "id": "b80da612",
   "metadata": {},
   "outputs": [],
   "source": []
  }
 ],
 "metadata": {
  "kernelspec": {
   "display_name": "Python 3 (ipykernel)",
   "language": "python",
   "name": "python3"
  },
  "language_info": {
   "codemirror_mode": {
    "name": "ipython",
    "version": 3
   },
   "file_extension": ".py",
   "mimetype": "text/x-python",
   "name": "python",
   "nbconvert_exporter": "python",
   "pygments_lexer": "ipython3",
   "version": "3.9.12"
  }
 },
 "nbformat": 4,
 "nbformat_minor": 5
}
