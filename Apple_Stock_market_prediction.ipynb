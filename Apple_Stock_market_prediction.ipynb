{
  "nbformat": 4,
  "nbformat_minor": 0,
  "metadata": {
    "colab": {
      "provenance": [],
      "include_colab_link": true
    },
    "kernelspec": {
      "name": "python3",
      "display_name": "Python 3"
    },
    "language_info": {
      "name": "python"
    }
  },
  "cells": [
    {
      "cell_type": "markdown",
      "metadata": {
        "id": "view-in-github",
        "colab_type": "text"
      },
      "source": [
        "<a href=\"https://colab.research.google.com/github/Aadityasindhuu/Aadityasindhuu/blob/main/Apple_Stock_market_prediction.ipynb\" target=\"_parent\"><img src=\"https://colab.research.google.com/assets/colab-badge.svg\" alt=\"Open In Colab\"/></a>"
      ]
    },
    {
      "cell_type": "code",
      "execution_count": null,
      "metadata": {
        "id": "MiMoj6TV7Kso"
      },
      "outputs": [],
      "source": [
        "6import pandas as pd\n",
        "import numpy as np\n",
        "from sklearn.preprocessing import MinMaxScaler\n",
        "from tensorflow.keras.models import Sequential\n",
        "from tensorflow.keras.layers import Dense, LSTM\n",
        "import matplotlib.pyplot as plt\n",
        "from google.colab import files\n",
        "\n",
        "\n"
      ]
    },
    {
      "cell_type": "code",
      "source": [
        "# Define a function to create sequences for the RNN\n",
        "def create_sequences(data, sequence_length):\n",
        "    X, y = [], []\n",
        "    for i in range(len(data) - sequence_length):\n",
        "        X.append(data[i:i + sequence_length])\n",
        "        y.append(data[i + sequence_length])\n",
        "    return np.array(X), np.array(y)"
      ],
      "metadata": {
        "id": "lbVavDuYkAcp"
      },
      "execution_count": null,
      "outputs": []
    },
    {
      "cell_type": "code",
      "source": [
        "# Upload the CSV file to Google Colab\n",
        "uploaded = files.upload()\n",
        "\n",
        "import pandas as pd\n",
        "\n",
        "# Load CSV data into a DataFrame\n",
        "df = pd.read_csv('AAPL.csv')\n",
        "\n",
        "# Now you can work with the DataFrame 'df'\n"
      ],
      "metadata": {
        "colab": {
          "base_uri": "https://localhost:8080/",
          "height": 73
        },
        "id": "veFxiUgTCe3a",
        "outputId": "26c59048-4173-4e98-d998-b69b545c5beb"
      },
      "execution_count": null,
      "outputs": [
        {
          "output_type": "display_data",
          "data": {
            "text/plain": [
              "<IPython.core.display.HTML object>"
            ],
            "text/html": [
              "\n",
              "     <input type=\"file\" id=\"files-3504d978-86a1-4cb6-94e6-0cec9999af3a\" name=\"files[]\" multiple disabled\n",
              "        style=\"border:none\" />\n",
              "     <output id=\"result-3504d978-86a1-4cb6-94e6-0cec9999af3a\">\n",
              "      Upload widget is only available when the cell has been executed in the\n",
              "      current browser session. Please rerun this cell to enable.\n",
              "      </output>\n",
              "      <script>// Copyright 2017 Google LLC\n",
              "//\n",
              "// Licensed under the Apache License, Version 2.0 (the \"License\");\n",
              "// you may not use this file except in compliance with the License.\n",
              "// You may obtain a copy of the License at\n",
              "//\n",
              "//      http://www.apache.org/licenses/LICENSE-2.0\n",
              "//\n",
              "// Unless required by applicable law or agreed to in writing, software\n",
              "// distributed under the License is distributed on an \"AS IS\" BASIS,\n",
              "// WITHOUT WARRANTIES OR CONDITIONS OF ANY KIND, either express or implied.\n",
              "// See the License for the specific language governing permissions and\n",
              "// limitations under the License.\n",
              "\n",
              "/**\n",
              " * @fileoverview Helpers for google.colab Python module.\n",
              " */\n",
              "(function(scope) {\n",
              "function span(text, styleAttributes = {}) {\n",
              "  const element = document.createElement('span');\n",
              "  element.textContent = text;\n",
              "  for (const key of Object.keys(styleAttributes)) {\n",
              "    element.style[key] = styleAttributes[key];\n",
              "  }\n",
              "  return element;\n",
              "}\n",
              "\n",
              "// Max number of bytes which will be uploaded at a time.\n",
              "const MAX_PAYLOAD_SIZE = 100 * 1024;\n",
              "\n",
              "function _uploadFiles(inputId, outputId) {\n",
              "  const steps = uploadFilesStep(inputId, outputId);\n",
              "  const outputElement = document.getElementById(outputId);\n",
              "  // Cache steps on the outputElement to make it available for the next call\n",
              "  // to uploadFilesContinue from Python.\n",
              "  outputElement.steps = steps;\n",
              "\n",
              "  return _uploadFilesContinue(outputId);\n",
              "}\n",
              "\n",
              "// This is roughly an async generator (not supported in the browser yet),\n",
              "// where there are multiple asynchronous steps and the Python side is going\n",
              "// to poll for completion of each step.\n",
              "// This uses a Promise to block the python side on completion of each step,\n",
              "// then passes the result of the previous step as the input to the next step.\n",
              "function _uploadFilesContinue(outputId) {\n",
              "  const outputElement = document.getElementById(outputId);\n",
              "  const steps = outputElement.steps;\n",
              "\n",
              "  const next = steps.next(outputElement.lastPromiseValue);\n",
              "  return Promise.resolve(next.value.promise).then((value) => {\n",
              "    // Cache the last promise value to make it available to the next\n",
              "    // step of the generator.\n",
              "    outputElement.lastPromiseValue = value;\n",
              "    return next.value.response;\n",
              "  });\n",
              "}\n",
              "\n",
              "/**\n",
              " * Generator function which is called between each async step of the upload\n",
              " * process.\n",
              " * @param {string} inputId Element ID of the input file picker element.\n",
              " * @param {string} outputId Element ID of the output display.\n",
              " * @return {!Iterable<!Object>} Iterable of next steps.\n",
              " */\n",
              "function* uploadFilesStep(inputId, outputId) {\n",
              "  const inputElement = document.getElementById(inputId);\n",
              "  inputElement.disabled = false;\n",
              "\n",
              "  const outputElement = document.getElementById(outputId);\n",
              "  outputElement.innerHTML = '';\n",
              "\n",
              "  const pickedPromise = new Promise((resolve) => {\n",
              "    inputElement.addEventListener('change', (e) => {\n",
              "      resolve(e.target.files);\n",
              "    });\n",
              "  });\n",
              "\n",
              "  const cancel = document.createElement('button');\n",
              "  inputElement.parentElement.appendChild(cancel);\n",
              "  cancel.textContent = 'Cancel upload';\n",
              "  const cancelPromise = new Promise((resolve) => {\n",
              "    cancel.onclick = () => {\n",
              "      resolve(null);\n",
              "    };\n",
              "  });\n",
              "\n",
              "  // Wait for the user to pick the files.\n",
              "  const files = yield {\n",
              "    promise: Promise.race([pickedPromise, cancelPromise]),\n",
              "    response: {\n",
              "      action: 'starting',\n",
              "    }\n",
              "  };\n",
              "\n",
              "  cancel.remove();\n",
              "\n",
              "  // Disable the input element since further picks are not allowed.\n",
              "  inputElement.disabled = true;\n",
              "\n",
              "  if (!files) {\n",
              "    return {\n",
              "      response: {\n",
              "        action: 'complete',\n",
              "      }\n",
              "    };\n",
              "  }\n",
              "\n",
              "  for (const file of files) {\n",
              "    const li = document.createElement('li');\n",
              "    li.append(span(file.name, {fontWeight: 'bold'}));\n",
              "    li.append(span(\n",
              "        `(${file.type || 'n/a'}) - ${file.size} bytes, ` +\n",
              "        `last modified: ${\n",
              "            file.lastModifiedDate ? file.lastModifiedDate.toLocaleDateString() :\n",
              "                                    'n/a'} - `));\n",
              "    const percent = span('0% done');\n",
              "    li.appendChild(percent);\n",
              "\n",
              "    outputElement.appendChild(li);\n",
              "\n",
              "    const fileDataPromise = new Promise((resolve) => {\n",
              "      const reader = new FileReader();\n",
              "      reader.onload = (e) => {\n",
              "        resolve(e.target.result);\n",
              "      };\n",
              "      reader.readAsArrayBuffer(file);\n",
              "    });\n",
              "    // Wait for the data to be ready.\n",
              "    let fileData = yield {\n",
              "      promise: fileDataPromise,\n",
              "      response: {\n",
              "        action: 'continue',\n",
              "      }\n",
              "    };\n",
              "\n",
              "    // Use a chunked sending to avoid message size limits. See b/62115660.\n",
              "    let position = 0;\n",
              "    do {\n",
              "      const length = Math.min(fileData.byteLength - position, MAX_PAYLOAD_SIZE);\n",
              "      const chunk = new Uint8Array(fileData, position, length);\n",
              "      position += length;\n",
              "\n",
              "      const base64 = btoa(String.fromCharCode.apply(null, chunk));\n",
              "      yield {\n",
              "        response: {\n",
              "          action: 'append',\n",
              "          file: file.name,\n",
              "          data: base64,\n",
              "        },\n",
              "      };\n",
              "\n",
              "      let percentDone = fileData.byteLength === 0 ?\n",
              "          100 :\n",
              "          Math.round((position / fileData.byteLength) * 100);\n",
              "      percent.textContent = `${percentDone}% done`;\n",
              "\n",
              "    } while (position < fileData.byteLength);\n",
              "  }\n",
              "\n",
              "  // All done.\n",
              "  yield {\n",
              "    response: {\n",
              "      action: 'complete',\n",
              "    }\n",
              "  };\n",
              "}\n",
              "\n",
              "scope.google = scope.google || {};\n",
              "scope.google.colab = scope.google.colab || {};\n",
              "scope.google.colab._files = {\n",
              "  _uploadFiles,\n",
              "  _uploadFilesContinue,\n",
              "};\n",
              "})(self);\n",
              "</script> "
            ]
          },
          "metadata": {}
        },
        {
          "output_type": "stream",
          "name": "stdout",
          "text": [
            "Saving AAPL.csv to AAPL (2).csv\n"
          ]
        }
      ]
    },
    {
      "cell_type": "code",
      "source": [
        "# Convert the 'Date' column to datetime format\n",
        "df['Date'] = pd.to_datetime(df['Date'])\n",
        "\n",
        "# Sort the data by date\n",
        "df = df.sort_values('Date')\n",
        "\n",
        "# Take only the 'Close' column for simplicity\n",
        "data = df['Close'].values.reshape(-1, 1)\n",
        "\n",
        "# Normalize the data using Min-Max scaling\n",
        "scaler = MinMaxScaler(feature_range=(0, 1))\n",
        "scaled_data = scaler.fit_transform(data)\n"
      ],
      "metadata": {
        "id": "4w18CtQSnU39"
      },
      "execution_count": null,
      "outputs": []
    },
    {
      "cell_type": "code",
      "source": [
        "def create_sequences(data, sequence_length):\n",
        "    X, y = [], []\n",
        "    for i in range(len(data) - sequence_length):\n",
        "        X.append(data[i:i + sequence_length])\n",
        "        y.append(data[i + sequence_length])\n",
        "    return np.array(X), np.array(y)\n",
        "\n",
        "# Choose the sequence length (e.g., 10 days)\n",
        "sequence_length = 10\n",
        "\n",
        "# Create sequences for training\n",
        "X, y = create_sequences(scaled_data, sequence_length)\n"
      ],
      "metadata": {
        "id": "WC7hrkTbnX_3"
      },
      "execution_count": null,
      "outputs": []
    },
    {
      "cell_type": "code",
      "source": [
        "# Split the data into training and testing sets (e.g., 80% train, 20% test)\n",
        "train_size = int(len(X) * 0.8)\n",
        "X_train, X_test = X[:train_size], X[train_size:]\n",
        "y_train, y_test = y[:train_size], y[train_size:]\n"
      ],
      "metadata": {
        "id": "8jHtQuado9oI"
      },
      "execution_count": null,
      "outputs": []
    },
    {
      "cell_type": "code",
      "source": [
        "model = Sequential()\n",
        "model.add(LSTM(units=50, activation='relu', input_shape=(sequence_length, 1)))\n",
        "model.add(Dense(units=1))\n",
        "model.compile(optimizer='adam', loss='mean_squared_error')\n",
        "\n",
        "# Train the model\n",
        "model.fit(X_train, y_train, epochs=50, batch_size=32)\n"
      ],
      "metadata": {
        "colab": {
          "base_uri": "https://localhost:8080/"
        },
        "id": "lKHDpcf9pAUG",
        "outputId": "5fdc480e-acbe-49c9-cd90-0eda099631b8"
      },
      "execution_count": null,
      "outputs": [
        {
          "output_type": "stream",
          "name": "stdout",
          "text": [
            "Epoch 1/50\n",
            "7/7 [==============================] - 2s 10ms/step - loss: 0.3508\n",
            "Epoch 2/50\n",
            "7/7 [==============================] - 0s 9ms/step - loss: 0.2425\n",
            "Epoch 3/50\n",
            "7/7 [==============================] - 0s 10ms/step - loss: 0.1498\n",
            "Epoch 4/50\n",
            "7/7 [==============================] - 0s 11ms/step - loss: 0.0650\n",
            "Epoch 5/50\n",
            "7/7 [==============================] - 0s 9ms/step - loss: 0.0271\n",
            "Epoch 6/50\n",
            "7/7 [==============================] - 0s 11ms/step - loss: 0.0332\n",
            "Epoch 7/50\n",
            "7/7 [==============================] - 0s 8ms/step - loss: 0.0180\n",
            "Epoch 8/50\n",
            "7/7 [==============================] - 0s 9ms/step - loss: 0.0187\n",
            "Epoch 9/50\n",
            "7/7 [==============================] - 0s 11ms/step - loss: 0.0165\n",
            "Epoch 10/50\n",
            "7/7 [==============================] - 0s 10ms/step - loss: 0.0177\n",
            "Epoch 11/50\n",
            "7/7 [==============================] - 0s 10ms/step - loss: 0.0157\n",
            "Epoch 12/50\n",
            "7/7 [==============================] - 0s 10ms/step - loss: 0.0159\n",
            "Epoch 13/50\n",
            "7/7 [==============================] - 0s 11ms/step - loss: 0.0151\n",
            "Epoch 14/50\n",
            "7/7 [==============================] - 0s 9ms/step - loss: 0.0159\n",
            "Epoch 15/50\n",
            "7/7 [==============================] - 0s 11ms/step - loss: 0.0144\n",
            "Epoch 16/50\n",
            "7/7 [==============================] - 0s 11ms/step - loss: 0.0145\n",
            "Epoch 17/50\n",
            "7/7 [==============================] - 0s 10ms/step - loss: 0.0140\n",
            "Epoch 18/50\n",
            "7/7 [==============================] - 0s 11ms/step - loss: 0.0133\n",
            "Epoch 19/50\n",
            "7/7 [==============================] - 0s 10ms/step - loss: 0.0166\n",
            "Epoch 20/50\n",
            "7/7 [==============================] - 0s 12ms/step - loss: 0.0134\n",
            "Epoch 21/50\n",
            "7/7 [==============================] - 0s 12ms/step - loss: 0.0135\n",
            "Epoch 22/50\n",
            "7/7 [==============================] - 0s 11ms/step - loss: 0.0123\n",
            "Epoch 23/50\n",
            "7/7 [==============================] - 0s 11ms/step - loss: 0.0137\n",
            "Epoch 24/50\n",
            "7/7 [==============================] - 0s 11ms/step - loss: 0.0129\n",
            "Epoch 25/50\n",
            "7/7 [==============================] - 0s 11ms/step - loss: 0.0116\n",
            "Epoch 26/50\n",
            "7/7 [==============================] - 0s 9ms/step - loss: 0.0122\n",
            "Epoch 27/50\n",
            "7/7 [==============================] - 0s 10ms/step - loss: 0.0115\n",
            "Epoch 28/50\n",
            "7/7 [==============================] - 0s 12ms/step - loss: 0.0112\n",
            "Epoch 29/50\n",
            "7/7 [==============================] - 0s 10ms/step - loss: 0.0110\n",
            "Epoch 30/50\n",
            "7/7 [==============================] - 0s 7ms/step - loss: 0.0109\n",
            "Epoch 31/50\n",
            "7/7 [==============================] - 0s 6ms/step - loss: 0.0106\n",
            "Epoch 32/50\n",
            "7/7 [==============================] - 0s 6ms/step - loss: 0.0104\n",
            "Epoch 33/50\n",
            "7/7 [==============================] - 0s 8ms/step - loss: 0.0105\n",
            "Epoch 34/50\n",
            "7/7 [==============================] - 0s 6ms/step - loss: 0.0122\n",
            "Epoch 35/50\n",
            "7/7 [==============================] - 0s 7ms/step - loss: 0.0109\n",
            "Epoch 36/50\n",
            "7/7 [==============================] - 0s 7ms/step - loss: 0.0105\n",
            "Epoch 37/50\n",
            "7/7 [==============================] - 0s 7ms/step - loss: 0.0096\n",
            "Epoch 38/50\n",
            "7/7 [==============================] - 0s 7ms/step - loss: 0.0101\n",
            "Epoch 39/50\n",
            "7/7 [==============================] - 0s 7ms/step - loss: 0.0110\n",
            "Epoch 40/50\n",
            "7/7 [==============================] - 0s 6ms/step - loss: 0.0095\n",
            "Epoch 41/50\n",
            "7/7 [==============================] - 0s 7ms/step - loss: 0.0107\n",
            "Epoch 42/50\n",
            "7/7 [==============================] - 0s 6ms/step - loss: 0.0096\n",
            "Epoch 43/50\n",
            "7/7 [==============================] - 0s 6ms/step - loss: 0.0094\n",
            "Epoch 44/50\n",
            "7/7 [==============================] - 0s 6ms/step - loss: 0.0093\n",
            "Epoch 45/50\n",
            "7/7 [==============================] - 0s 6ms/step - loss: 0.0089\n",
            "Epoch 46/50\n",
            "7/7 [==============================] - 0s 7ms/step - loss: 0.0088\n",
            "Epoch 47/50\n",
            "7/7 [==============================] - 0s 8ms/step - loss: 0.0126\n",
            "Epoch 48/50\n",
            "7/7 [==============================] - 0s 7ms/step - loss: 0.0100\n",
            "Epoch 49/50\n",
            "7/7 [==============================] - 0s 7ms/step - loss: 0.0094\n",
            "Epoch 50/50\n",
            "7/7 [==============================] - 0s 7ms/step - loss: 0.0093\n"
          ]
        },
        {
          "output_type": "execute_result",
          "data": {
            "text/plain": [
              "<keras.src.callbacks.History at 0x7c5561e64a60>"
            ]
          },
          "metadata": {},
          "execution_count": 29
        }
      ]
    },
    {
      "cell_type": "code",
      "source": [
        "# Extract data for the upcoming week (adjust date range as needed)\n",
        "upcoming_week_data = df[df['Date'] >= '3/21/2024']  # Adjust date as needed\n",
        "\n",
        "# Check if upcoming_week_data is empty\n",
        "if upcoming_week_data.empty:\n",
        "    print(\"Error: No data available for the specified upcoming week.\")\n",
        "else:\n",
        "    upcoming_week_prices = upcoming_week_data['Close'].values.reshape(-1, 1)\n",
        "\n",
        "    # Normalize the upcoming week's data using the same scaler used for training data\n",
        "    scaled_upcoming_week_data = scaler.transform(upcoming_week_prices)\n",
        "\n",
        "    # Create sequences for the upcoming week\n",
        "    X_upcoming_week, y_upcoming_week = create_sequences(scaled_upcoming_week_data, sequence_length)\n",
        "\n",
        "    # Generate predictions for the upcoming week using the trained model\n",
        "    predictions_upcoming_week = model.predict(X_upcoming_week)\n",
        "    predictions_upcoming_week = scaler.inverse_transform(predictions_upcoming_week)\n",
        "\n",
        "    # Plot the actual vs predicted values for the upcoming week\n",
        "    plt.figure(figsize=(10, 6))\n",
        "    plt.plot(upcoming_week_prices, label='Actual')\n",
        "    plt.plot(predictions_upcoming_week, label='Predicted')\n",
        "    plt.xlabel('Days')\n",
        "    plt.ylabel('Stock Price')\n",
        "    plt.title('Stock Price Prediction for Upcoming Week')\n",
        "    plt.legend()\n",
        "    plt.show()\n"
      ],
      "metadata": {
        "colab": {
          "base_uri": "https://localhost:8080/",
          "height": 581
        },
        "id": "bxAwlDa8pEiC",
        "outputId": "875dff41-c728-41b7-a75c-3f09beb97c08"
      },
      "execution_count": null,
      "outputs": [
        {
          "output_type": "stream",
          "name": "stdout",
          "text": [
            "1/1 [==============================] - 0s 213ms/step\n"
          ]
        },
        {
          "output_type": "display_data",
          "data": {
            "text/plain": [
              "<Figure size 1000x600 with 1 Axes>"
            ],
            "image/png": "[encoded data removed]"
          },
          "metadata": {}
        }
      ]
    }
  ]
}