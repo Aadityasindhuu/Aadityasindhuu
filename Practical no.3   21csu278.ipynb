{
 "cells": [
  {
   "cell_type": "code",
   "execution_count": 6,
   "id": "9c6f59e5",
   "metadata": {},
   "outputs": [],
   "source": [
    "import random"
   ]
  },
  {
   "cell_type": "code",
   "execution_count": 11,
   "id": "c6b57308",
   "metadata": {},
   "outputs": [
    {
     "name": "stdout",
     "output_type": "stream",
     "text": [
      "Randomly allocated means for the five machines: [9.906561561087182, 8.925526832167662, 4.909449200365543, 6.955860205037062, 5.7234942820352295]\n"
     ]
    }
   ],
   "source": [
    "# Initialize a list to store the means for each machine\n",
    "machine_means = []\n",
    "\n",
    "# Generate random means for the five machines\n",
    "for _ in range(5):\n",
    "    mean = random.uniform(0, 10)  # You can adjust the range as needed\n",
    "    machine_means.append(mean)\n",
    "\n",
    "print(\"Randomly allocated means for the five machines:\", machine_means)\n"
   ]
  },
  {
   "cell_type": "code",
   "execution_count": 31,
   "id": "ba8bd7e8",
   "metadata": {},
   "outputs": [
    {
     "name": "stdout",
     "output_type": "stream",
     "text": [
      "Cumulative reward: 508.71718121056637\n",
      "Average rewards for each machine: [0.45603376410988755, 0.5708947451987275, 0.5207903951814781, 0.5073927814814909, 0.5274285734730426]\n"
     ]
    }
   ],
   "source": [
    "epsilon = 0.2  # Adjust the exploration rate as needed\n",
    "\n",
    "# Initialize variables to keep track of rewards and action counts for each machine\n",
    "total_rewards = [0] * 5\n",
    "action_counts = [0] * 5\n",
    "\n",
    "# Initialize a variable to keep track of cumulative reward\n",
    "cumulative_reward = 0\n",
    "\n",
    "def choose_machine():\n",
    "    if random.random() < epsilon:\n",
    "        # Explore: choose a random machine\n",
    "        return random.randint(0, 4)\n",
    "    else:\n",
    "        # Exploit: choose the machine with the highest mean\n",
    "        return machine_means.index(max(machine_means))\n",
    "    # Perform exploration for 1000 trials\n",
    "num_trials = 1000\n",
    "\n",
    "for _ in range(num_trials):\n",
    "    chosen_machine = choose_machine()\n",
    "    \n",
    "    # Simulate getting a reward based on the chosen machine\n",
    "    # You can replace this with your own reward function\n",
    "    # For this example, we're using a random reward between 0 and 1.\n",
    "    reward = random.uniform(0, 1)\n",
    "    \n",
    "    # Update the cumulative reward\n",
    "    cumulative_reward += reward\n",
    "    # Update the total rewards and action counts\n",
    "    total_rewards[chosen_machine] += reward\n",
    "    action_counts[chosen_machine] += 1\n",
    "\n",
    "# Calculate the average reward for each machine\n",
    "average_rewards = [total_rewards[i] / action_counts[i] if action_counts[i] > 0 else 0 for i in range(5)]\n",
    "\n",
    "print(\"Cumulative reward:\", cumulative_reward)\n",
    "print(\"Average rewards for each machine:\", average_rewards)"
   ]
  },
  {
   "cell_type": "code",
   "execution_count": 33,
   "id": "48fcf11f",
   "metadata": {},
   "outputs": [
    {
     "name": "stdout",
     "output_type": "stream",
     "text": [
      "Machine 1 Mean: 4\n",
      "Machine 2 Mean: 3\n",
      "Machine 3 Mean: 5\n",
      "Machine 4 Mean: 7\n",
      "Machine 5 Mean: 2\n",
      "Cumulative reward (Greedy): 7000\n",
      "Machine 1 Average Reward (Greedy): 0\n",
      "Machine 2 Average Reward (Greedy): 0\n",
      "Machine 3 Average Reward (Greedy): 0\n",
      "Machine 4 Average Reward (Greedy): 7.0\n",
      "Machine 5 Average Reward (Greedy): 0\n"
     ]
    }
   ],
   "source": [
    "import random\n",
    "\n",
    "# Define the mean values for each machine\n",
    "machine_means = [4, 3, 5, 7, 2]\n",
    "\n",
    "# Print each machine's mean value\n",
    "for i, mean in enumerate(machine_means):\n",
    "    print(f\"Machine {i + 1} Mean: {mean}\")\n",
    "\n",
    "# Initialize variables to keep track of rewards and action counts for each machine\n",
    "total_rewards = [0] * 5\n",
    "action_counts = [0] * 5\n",
    "\n",
    "# Initialize a variable to keep track of cumulative reward\n",
    "cumulative_reward = 0\n",
    "\n",
    "def choose_machine():\n",
    "    # Exploit: choose the machine with the highest estimated mean\n",
    "    return machine_means.index(max(machine_means))\n",
    "\n",
    "# Perform exploration for 1000 trials using the greedy approach\n",
    "num_trials = 1000\n",
    "\n",
    "for _ in range(num_trials):\n",
    "    chosen_machine = choose_machine()\n",
    "    \n",
    "    # Simulate getting a reward based on the chosen machine\n",
    "    # In this example, we use the machine's mean value as the reward\n",
    "    reward = machine_means[chosen_machine]\n",
    "    \n",
    "    # Update the cumulative reward\n",
    "    cumulative_reward += reward\n",
    "    \n",
    "    # Update the total rewards and action counts\n",
    "    total_rewards[chosen_machine] += reward\n",
    "    action_counts[chosen_machine] += 1\n",
    "\n",
    "# Calculate the average reward for each machine\n",
    "average_rewards = [total_rewards[i] / action_counts[i] if action_counts[i] > 0 else 0 for i in range(5)]\n",
    "\n",
    "# Print cumulative reward and average rewards\n",
    "print(\"Cumulative reward (Greedy):\", cumulative_reward)\n",
    "for i, avg_reward in enumerate(average_rewards):\n",
    "    print(f\"Machine {i + 1} Average Reward (Greedy): {avg_reward}\")\n",
    "\n"
   ]
  },
  {
   "cell_type": "code",
   "execution_count": 32,
   "id": "994caf24",
   "metadata": {},
   "outputs": [
    {
     "name": "stdout",
     "output_type": "stream",
     "text": [
      "Machine 1 Mean: 4\n",
      "Machine 2 Mean: 3\n",
      "Machine 3 Mean: 5\n",
      "Machine 4 Mean: 7\n",
      "Machine 5 Mean: 2\n",
      "Cumulative reward (Epsilon-Greedy): 6438\n",
      "Machine 1 Average Reward (Epsilon-Greedy): 4.0\n",
      "Machine 2 Average Reward (Epsilon-Greedy): 3.0\n",
      "Machine 3 Average Reward (Epsilon-Greedy): 5.0\n",
      "Machine 4 Average Reward (Epsilon-Greedy): 7.0\n",
      "Machine 5 Average Reward (Epsilon-Greedy): 2.0\n",
      "Machine 1 was chosen 36 times in a single run.\n",
      "Machine 2 was chosen 48 times in a single run.\n",
      "Machine 3 was chosen 26 times in a single run.\n",
      "Machine 4 was chosen 848 times in a single run.\n",
      "Machine 5 was chosen 42 times in a single run.\n"
     ]
    }
   ],
   "source": [
    "import random\n",
    "\n",
    "# Define the mean values for each machine\n",
    "machine_means = [4, 3, 5, 7, 2]\n",
    "\n",
    "# Print each machine's mean value\n",
    "for i, mean in enumerate(machine_means):\n",
    "    print(f\"Machine {i + 1} Mean: {mean}\")\n",
    "\n",
    "# Initialize variables to keep track of rewards and action counts for each machine\n",
    "total_rewards = [0] * 5\n",
    "action_counts = [0] * 5\n",
    "\n",
    "# Initialize a variable to keep track of cumulative reward\n",
    "cumulative_reward = 0\n",
    "\n",
    "# Initialize a dictionary to track how many times each machine is chosen in a single run\n",
    "machine_counts = {i: 0 for i in range(5)}\n",
    "\n",
    "# Define the exploration rate (epsilon)\n",
    "epsilon = 0.2  # You can adjust this value as needed\n",
    "\n",
    "def choose_machine():\n",
    "    if random.random() < epsilon:\n",
    "        # Explore: choose a random machine\n",
    "        chosen_machine = random.randint(0, 4)\n",
    "    else:\n",
    "        # Exploit: choose the machine with the highest estimated mean\n",
    "        chosen_machine = machine_means.index(max(machine_means))\n",
    "    \n",
    "    # Update the count for the chosen machine\n",
    "    machine_counts[chosen_machine] += 1\n",
    "    \n",
    "    return chosen_machine\n",
    "\n",
    "# Perform exploration for 1000 trials using the epsilon-greedy approach\n",
    "num_trials = 1000\n",
    "\n",
    "for _ in range(num_trials):\n",
    "    chosen_machine = choose_machine()\n",
    "    \n",
    "    # Simulate getting a reward based on the chosen machine\n",
    "    # In this example, we use the machine's mean value as the reward\n",
    "    reward = machine_means[chosen_machine]\n",
    "    \n",
    "    # Update the cumulative reward\n",
    "    cumulative_reward += reward\n",
    "    \n",
    "    # Update the total rewards and action counts\n",
    "    total_rewards[chosen_machine] += reward\n",
    "    action_counts[chosen_machine] += 1\n",
    "\n",
    "# Calculate the average reward for each machine\n",
    "average_rewards = [total_rewards[i] / action_counts[i] if action_counts[i] > 0 else 0 for i in range(5)]\n",
    "\n",
    "# Print cumulative reward and average rewards\n",
    "print(\"Cumulative reward (Epsilon-Greedy):\", cumulative_reward)\n",
    "for i, avg_reward in enumerate(average_rewards):\n",
    "    print(f\"Machine {i + 1} Average Reward (Epsilon-Greedy): {avg_reward}\")\n",
    "\n",
    "# Print how many times each machine was chosen in a single run\n",
    "for machine, count in machine_counts.items():\n",
    "    print(f\"Machine {machine + 1} was chosen {count} times in a single run.\")\n"
   ]
  },
  {
   "cell_type": "code",
   "execution_count": null,
   "id": "26430ad7",
   "metadata": {},
   "outputs": [],
   "source": []
  }
 ],
 "metadata": {
  "kernelspec": {
   "display_name": "Python 3 (ipykernel)",
   "language": "python",
   "name": "python3"
  },
  "language_info": {
   "codemirror_mode": {
    "name": "ipython",
    "version": 3
   },
   "file_extension": ".py",
   "mimetype": "text/x-python",
   "name": "python",
   "nbconvert_exporter": "python",
   "pygments_lexer": "ipython3",
   "version": "3.9.12"
  }
 },
 "nbformat": 4,
 "nbformat_minor": 5
}
