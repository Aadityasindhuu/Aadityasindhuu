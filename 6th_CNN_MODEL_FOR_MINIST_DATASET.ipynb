{
  "nbformat": 4,
  "nbformat_minor": 0,
  "metadata": {
    "colab": {
      "provenance": [],
      "authorship_tag": "ABX9TyOrJzDPdxlVISLoo0qGHin9",
      "include_colab_link": true
    },
    "kernelspec": {
      "name": "python3",
      "display_name": "Python 3"
    },
    "language_info": {
      "name": "python"
    }
  },
  "cells": [
    {
      "cell_type": "markdown",
      "metadata": {
        "id": "view-in-github",
        "colab_type": "text"
      },
      "source": [
        "<a href=\"https://colab.research.google.com/github/Aadityasindhuu/Aadityasindhuu/blob/main/6th_CNN_MODEL_FOR_MINIST_DATASET.ipynb\" target=\"_parent\"><img src=\"https://colab.research.google.com/assets/colab-badge.svg\" alt=\"Open In Colab\"/></a>"
      ]
    },
    {
      "cell_type": "code",
      "execution_count": null,
      "metadata": {
        "id": "_4bbxtOpf4RH",
        "colab": {
          "base_uri": "https://localhost:8080/"
        },
        "outputId": "1930d694-51bf-46e8-fd2e-01d5581b6596"
      },
      "outputs": [
        {
          "output_type": "stream",
          "name": "stdout",
          "text": [
            "Downloading data from https://storage.googleapis.com/tensorflow/tf-keras-datasets/mnist.npz\n",
            "11490434/11490434 [==============================] - 0s 0us/step\n"
          ]
        }
      ],
      "source": [
        "import tensorflow as tf\n",
        "from tensorflow.keras.datasets import mnist\n",
        "from tensorflow.keras.utils import to_categorical\n",
        "\n",
        "# Load the MNIST dataset\n",
        "(train_images, train_labels), (test_images, test_labels) = mnist.load_data()\n",
        "\n",
        "# Reshape and normalize the images\n",
        "train_images = train_images.reshape((60000, 28, 28, 1)).astype('float32') / 255\n",
        "test_images = test_images.reshape((10000, 28, 28, 1)).astype('float32') / 255\n",
        "\n",
        "# One-hot encode the labels\n",
        "train_labels = to_categorical(train_labels)\n",
        "test_labels = to_categorical(test_labels)\n"
      ]
    },
    {
      "cell_type": "code",
      "source": [],
      "metadata": {
        "id": "0ACIKdIRgLsK"
      },
      "execution_count": null,
      "outputs": []
    },
    {
      "cell_type": "code",
      "source": [
        "# Check the shapes of the data\n",
        "print(\"Shape of train_images:\", train_images.shape)\n",
        "print(\"Shape of train_labels:\", train_labels.shape)\n",
        "print(\"Shape of test_images:\", test_images.shape)\n",
        "print(\"Shape of test_labels:\", test_labels.shape)\n"
      ],
      "metadata": {
        "colab": {
          "base_uri": "https://localhost:8080/"
        },
        "id": "c8JbgNSQnmbN",
        "outputId": "50c826dd-5efd-42db-aec7-1d61998c0ff4"
      },
      "execution_count": null,
      "outputs": [
        {
          "output_type": "stream",
          "name": "stdout",
          "text": [
            "Shape of train_images: (60000, 28, 28, 1)\n",
            "Shape of train_labels: (60000, 10)\n",
            "Shape of test_images: (10000, 28, 28, 1)\n",
            "Shape of test_labels: (10000, 10)\n"
          ]
        }
      ]
    },
    {
      "cell_type": "code",
      "source": [
        "from tensorflow.keras import layers, models\n",
        "\n",
        "# Define the CNN model\n",
        "model = models.Sequential([\n",
        "    layers.Conv2D(32, (3, 3), activation='relu', input_shape=(28, 28, 1)),\n",
        "    layers.MaxPooling2D((2, 2)),\n",
        "    layers.Conv2D(64, (3, 3), activation='relu'),\n",
        "    layers.MaxPooling2D((2, 2)),\n",
        "    layers.Conv2D(64, (3, 3), activation='relu'),\n",
        "    layers.Flatten(),\n",
        "    layers.Dense(64, activation='relu'),\n",
        "    layers.Dense(10, activation='softmax')\n",
        "])\n",
        "\n",
        "# Display the model summary\n",
        "model.summary()\n"
      ],
      "metadata": {
        "colab": {
          "base_uri": "https://localhost:8080/"
        },
        "id": "AU6AcDrgguwM",
        "outputId": "ac829dea-74e7-4eb6-e403-443c9090e927"
      },
      "execution_count": null,
      "outputs": [
        {
          "output_type": "stream",
          "name": "stdout",
          "text": [
            "Model: \"sequential\"\n",
            "_________________________________________________________________\n",
            " Layer (type)                Output Shape              Param #   \n",
            "=================================================================\n",
            " conv2d (Conv2D)             (None, 26, 26, 32)        320       \n",
            "                                                                 \n",
            " max_pooling2d (MaxPooling2  (None, 13, 13, 32)        0         \n",
            " D)                                                              \n",
            "                                                                 \n",
            " conv2d_1 (Conv2D)           (None, 11, 11, 64)        18496     \n",
            "                                                                 \n",
            " max_pooling2d_1 (MaxPoolin  (None, 5, 5, 64)          0         \n",
            " g2D)                                                            \n",
            "                                                                 \n",
            " conv2d_2 (Conv2D)           (None, 3, 3, 64)          36928     \n",
            "                                                                 \n",
            " flatten (Flatten)           (None, 576)               0         \n",
            "                                                                 \n",
            " dense (Dense)               (None, 64)                36928     \n",
            "                                                                 \n",
            " dense_1 (Dense)             (None, 10)                650       \n",
            "                                                                 \n",
            "=================================================================\n",
            "Total params: 93322 (364.54 KB)\n",
            "Trainable params: 93322 (364.54 KB)\n",
            "Non-trainable params: 0 (0.00 Byte)\n",
            "_________________________________________________________________\n"
          ]
        }
      ]
    },
    {
      "cell_type": "code",
      "source": [
        "# Compile the model\n",
        "model.compile(optimizer='adam',\n",
        "              loss='categorical_crossentropy',\n",
        "              metrics=['accuracy'])\n",
        "\n"
      ],
      "metadata": {
        "id": "M3U2rxZzg3yB"
      },
      "execution_count": null,
      "outputs": []
    },
    {
      "cell_type": "code",
      "source": [
        "# Train the model\n",
        "# Train the model\n",
        "history = model.fit(train_images, train_labels, epochs=10, batch_size=64, validation_split=0.2)\n"
      ],
      "metadata": {
        "colab": {
          "base_uri": "https://localhost:8080/"
        },
        "id": "7t_7rHtaoFcd",
        "outputId": "473c8978-d6f9-4c94-ef6b-5b12aaa84faa"
      },
      "execution_count": null,
      "outputs": [
        {
          "output_type": "stream",
          "name": "stdout",
          "text": [
            "Epoch 1/10\n",
            "750/750 [==============================] - 44s 57ms/step - loss: 0.1976 - accuracy: 0.9399 - val_loss: 0.0715 - val_accuracy: 0.9791\n",
            "Epoch 2/10\n",
            "750/750 [==============================] - 40s 54ms/step - loss: 0.0542 - accuracy: 0.9830 - val_loss: 0.0468 - val_accuracy: 0.9847\n",
            "Epoch 3/10\n",
            "750/750 [==============================] - 40s 53ms/step - loss: 0.0373 - accuracy: 0.9879 - val_loss: 0.0418 - val_accuracy: 0.9868\n",
            "Epoch 4/10\n",
            "750/750 [==============================] - 40s 54ms/step - loss: 0.0287 - accuracy: 0.9908 - val_loss: 0.0386 - val_accuracy: 0.9890\n",
            "Epoch 5/10\n",
            "750/750 [==============================] - 42s 56ms/step - loss: 0.0224 - accuracy: 0.9928 - val_loss: 0.0389 - val_accuracy: 0.9889\n",
            "Epoch 6/10\n",
            "750/750 [==============================] - 40s 54ms/step - loss: 0.0193 - accuracy: 0.9937 - val_loss: 0.0341 - val_accuracy: 0.9898\n",
            "Epoch 7/10\n",
            "750/750 [==============================] - 40s 53ms/step - loss: 0.0158 - accuracy: 0.9950 - val_loss: 0.0422 - val_accuracy: 0.9888\n",
            "Epoch 8/10\n",
            "750/750 [==============================] - 41s 54ms/step - loss: 0.0140 - accuracy: 0.9953 - val_loss: 0.0412 - val_accuracy: 0.9890\n",
            "Epoch 9/10\n",
            "750/750 [==============================] - 40s 53ms/step - loss: 0.0119 - accuracy: 0.9959 - val_loss: 0.0448 - val_accuracy: 0.9885\n",
            "Epoch 10/10\n",
            "750/750 [==============================] - 41s 54ms/step - loss: 0.0095 - accuracy: 0.9968 - val_loss: 0.0354 - val_accuracy: 0.9907\n"
          ]
        }
      ]
    }
  ]
}