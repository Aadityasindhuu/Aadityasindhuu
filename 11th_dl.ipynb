{
  "nbformat": 4,
  "nbformat_minor": 0,
  "metadata": {
    "colab": {
      "provenance": [],
      "authorship_tag": "ABX9TyNe6cS+C4FBLGYMDYwOQIHr",
      "include_colab_link": true
    },
    "kernelspec": {
      "name": "python3",
      "display_name": "Python 3"
    },
    "language_info": {
      "name": "python"
    }
  },
  "cells": [
    {
      "cell_type": "markdown",
      "metadata": {
        "id": "view-in-github",
        "colab_type": "text"
      },
      "source": [
        "<a href=\"https://colab.research.google.com/github/Aadityasindhuu/Aadityasindhuu/blob/main/11th_dl.ipynb\" target=\"_parent\"><img src=\"https://colab.research.google.com/assets/colab-badge.svg\" alt=\"Open In Colab\"/></a>"
      ]
    },
    {
      "cell_type": "code",
      "execution_count": 1,
      "metadata": {
        "id": "MGDMnc8hT8j6"
      },
      "outputs": [],
      "source": [
        "import pandas as pd\n",
        "import numpy as np\n",
        "import matplotlib.pyplot as plt\n",
        "from sklearn.preprocessing import MinMaxScaler\n",
        "from tensorflow.keras.layers import Input, Dense\n",
        "from tensorflow.keras.models import Model\n"
      ]
    },
    {
      "cell_type": "code",
      "source": [
        "# Upload your dataset file to Google Colab\n",
        "from google.colab import files\n",
        "uploaded = files.upload()"
      ],
      "metadata": {
        "colab": {
          "base_uri": "https://localhost:8080/",
          "height": 71
        },
        "id": "vOKniz6ET_t5",
        "outputId": "49529b05-6d9a-4e37-f3f3-63d42f7e11df"
      },
      "execution_count": 2,
      "outputs": [
        {
          "output_type": "display_data",
          "data": {
            "text/plain": [
              "<IPython.core.display.HTML object>"
            ],
            "text/html": [
              "\n",
              "     <input type=\"file\" id=\"files-5b392fb0-d67b-47cb-a9ae-76fbe0296acd\" name=\"files[]\" multiple disabled\n",
              "        style=\"border:none\" />\n",
              "     <output id=\"result-5b392fb0-d67b-47cb-a9ae-76fbe0296acd\">\n",
              "      Upload widget is only available when the cell has been executed in the\n",
              "      current browser session. Please rerun this cell to enable.\n",
              "      </output>\n",
              "      <script>// Copyright 2017 Google LLC\n",
              "//\n",
              "// Licensed under the Apache License, Version 2.0 (the \"License\");\n",
              "// you may not use this file except in compliance with the License.\n",
              "// You may obtain a copy of the License at\n",
              "//\n",
              "//      http://www.apache.org/licenses/LICENSE-2.0\n",
              "//\n",
              "// Unless required by applicable law or agreed to in writing, software\n",
              "// distributed under the License is distributed on an \"AS IS\" BASIS,\n",
              "// WITHOUT WARRANTIES OR CONDITIONS OF ANY KIND, either express or implied.\n",
              "// See the License for the specific language governing permissions and\n",
              "// limitations under the License.\n",
              "\n",
              "/**\n",
              " * @fileoverview Helpers for google.colab Python module.\n",
              " */\n",
              "(function(scope) {\n",
              "function span(text, styleAttributes = {}) {\n",
              "  const element = document.createElement('span');\n",
              "  element.textContent = text;\n",
              "  for (const key of Object.keys(styleAttributes)) {\n",
              "    element.style[key] = styleAttributes[key];\n",
              "  }\n",
              "  return element;\n",
              "}\n",
              "\n",
              "// Max number of bytes which will be uploaded at a time.\n",
              "const MAX_PAYLOAD_SIZE = 100 * 1024;\n",
              "\n",
              "function _uploadFiles(inputId, outputId) {\n",
              "  const steps = uploadFilesStep(inputId, outputId);\n",
              "  const outputElement = document.getElementById(outputId);\n",
              "  // Cache steps on the outputElement to make it available for the next call\n",
              "  // to uploadFilesContinue from Python.\n",
              "  outputElement.steps = steps;\n",
              "\n",
              "  return _uploadFilesContinue(outputId);\n",
              "}\n",
              "\n",
              "// This is roughly an async generator (not supported in the browser yet),\n",
              "// where there are multiple asynchronous steps and the Python side is going\n",
              "// to poll for completion of each step.\n",
              "// This uses a Promise to block the python side on completion of each step,\n",
              "// then passes the result of the previous step as the input to the next step.\n",
              "function _uploadFilesContinue(outputId) {\n",
              "  const outputElement = document.getElementById(outputId);\n",
              "  const steps = outputElement.steps;\n",
              "\n",
              "  const next = steps.next(outputElement.lastPromiseValue);\n",
              "  return Promise.resolve(next.value.promise).then((value) => {\n",
              "    // Cache the last promise value to make it available to the next\n",
              "    // step of the generator.\n",
              "    outputElement.lastPromiseValue = value;\n",
              "    return next.value.response;\n",
              "  });\n",
              "}\n",
              "\n",
              "/**\n",
              " * Generator function which is called between each async step of the upload\n",
              " * process.\n",
              " * @param {string} inputId Element ID of the input file picker element.\n",
              " * @param {string} outputId Element ID of the output display.\n",
              " * @return {!Iterable<!Object>} Iterable of next steps.\n",
              " */\n",
              "function* uploadFilesStep(inputId, outputId) {\n",
              "  const inputElement = document.getElementById(inputId);\n",
              "  inputElement.disabled = false;\n",
              "\n",
              "  const outputElement = document.getElementById(outputId);\n",
              "  outputElement.innerHTML = '';\n",
              "\n",
              "  const pickedPromise = new Promise((resolve) => {\n",
              "    inputElement.addEventListener('change', (e) => {\n",
              "      resolve(e.target.files);\n",
              "    });\n",
              "  });\n",
              "\n",
              "  const cancel = document.createElement('button');\n",
              "  inputElement.parentElement.appendChild(cancel);\n",
              "  cancel.textContent = 'Cancel upload';\n",
              "  const cancelPromise = new Promise((resolve) => {\n",
              "    cancel.onclick = () => {\n",
              "      resolve(null);\n",
              "    };\n",
              "  });\n",
              "\n",
              "  // Wait for the user to pick the files.\n",
              "  const files = yield {\n",
              "    promise: Promise.race([pickedPromise, cancelPromise]),\n",
              "    response: {\n",
              "      action: 'starting',\n",
              "    }\n",
              "  };\n",
              "\n",
              "  cancel.remove();\n",
              "\n",
              "  // Disable the input element since further picks are not allowed.\n",
              "  inputElement.disabled = true;\n",
              "\n",
              "  if (!files) {\n",
              "    return {\n",
              "      response: {\n",
              "        action: 'complete',\n",
              "      }\n",
              "    };\n",
              "  }\n",
              "\n",
              "  for (const file of files) {\n",
              "    const li = document.createElement('li');\n",
              "    li.append(span(file.name, {fontWeight: 'bold'}));\n",
              "    li.append(span(\n",
              "        `(${file.type || 'n/a'}) - ${file.size} bytes, ` +\n",
              "        `last modified: ${\n",
              "            file.lastModifiedDate ? file.lastModifiedDate.toLocaleDateString() :\n",
              "                                    'n/a'} - `));\n",
              "    const percent = span('0% done');\n",
              "    li.appendChild(percent);\n",
              "\n",
              "    outputElement.appendChild(li);\n",
              "\n",
              "    const fileDataPromise = new Promise((resolve) => {\n",
              "      const reader = new FileReader();\n",
              "      reader.onload = (e) => {\n",
              "        resolve(e.target.result);\n",
              "      };\n",
              "      reader.readAsArrayBuffer(file);\n",
              "    });\n",
              "    // Wait for the data to be ready.\n",
              "    let fileData = yield {\n",
              "      promise: fileDataPromise,\n",
              "      response: {\n",
              "        action: 'continue',\n",
              "      }\n",
              "    };\n",
              "\n",
              "    // Use a chunked sending to avoid message size limits. See b/62115660.\n",
              "    let position = 0;\n",
              "    do {\n",
              "      const length = Math.min(fileData.byteLength - position, MAX_PAYLOAD_SIZE);\n",
              "      const chunk = new Uint8Array(fileData, position, length);\n",
              "      position += length;\n",
              "\n",
              "      const base64 = btoa(String.fromCharCode.apply(null, chunk));\n",
              "      yield {\n",
              "        response: {\n",
              "          action: 'append',\n",
              "          file: file.name,\n",
              "          data: base64,\n",
              "        },\n",
              "      };\n",
              "\n",
              "      let percentDone = fileData.byteLength === 0 ?\n",
              "          100 :\n",
              "          Math.round((position / fileData.byteLength) * 100);\n",
              "      percent.textContent = `${percentDone}% done`;\n",
              "\n",
              "    } while (position < fileData.byteLength);\n",
              "  }\n",
              "\n",
              "  // All done.\n",
              "  yield {\n",
              "    response: {\n",
              "      action: 'complete',\n",
              "    }\n",
              "  };\n",
              "}\n",
              "\n",
              "scope.google = scope.google || {};\n",
              "scope.google.colab = scope.google.colab || {};\n",
              "scope.google.colab._files = {\n",
              "  _uploadFiles,\n",
              "  _uploadFilesContinue,\n",
              "};\n",
              "})(self);\n",
              "</script> "
            ]
          },
          "metadata": {}
        },
        {
          "output_type": "stream",
          "name": "stdout",
          "text": [
            "Saving Housing.csv to Housing.csv\n"
          ]
        }
      ]
    },
    {
      "cell_type": "code",
      "source": [
        "# Load data from CSV file\n",
        "data = pd.read_csv(\"Housing.csv\")\n",
        "\n",
        "# Extract the closing prices\n",
        "prices = data[\"area\"].values.astype('int')\n",
        "\n",
        "# Normalize the data\n",
        "scaler = MinMaxScaler()\n",
        "prices_scaled = scaler.fit_transform(prices.reshape(-1, 1))\n",
        "\n",
        "# Define the input dimension\n",
        "input_dim = prices_scaled.shape[1]\n"
      ],
      "metadata": {
        "id": "s4O68wlzUEmZ"
      },
      "execution_count": 3,
      "outputs": []
    },
    {
      "cell_type": "code",
      "source": [
        "# Define the encoder and decoder dimensions\n",
        "encoding_dim = 5  # Dimensionality of the encoded representation\n",
        "\n",
        "# Input layer\n",
        "input_layer = Input(shape=(input_dim,))\n",
        "\n",
        "# Encoder\n",
        "encoded = Dense(encoding_dim, activation='relu')(input_layer)\n",
        "\n",
        "# Decoder\n",
        "decoded = Dense(input_dim, activation='sigmoid')(encoded)\n",
        "\n",
        "# Autoencoder model\n",
        "autoencoder = Model(input_layer, decoded)\n",
        "\n",
        "# Compile the model\n",
        "autoencoder.compile(optimizer='adam', loss='mean_squared_error')\n",
        "\n"
      ],
      "metadata": {
        "id": "UX6ppdSzUxoY"
      },
      "execution_count": 6,
      "outputs": []
    },
    {
      "cell_type": "code",
      "source": [
        "# Train the model\n",
        "num_epochs = 50\n",
        "batch_size = 32\n",
        "\n",
        "history = autoencoder.fit(prices_scaled, prices_scaled,\n",
        "                          epochs=num_epochs,\n",
        "                          batch_size=batch_size,\n",
        "                          shuffle=True,\n",
        "                          validation_split=0.2)"
      ],
      "metadata": {
        "colab": {
          "base_uri": "https://localhost:8080/"
        },
        "id": "ozMvJX0nVLTO",
        "outputId": "f60ac922-4ca4-4ff8-9d18-2126551feefd"
      },
      "execution_count": 7,
      "outputs": [
        {
          "output_type": "stream",
          "name": "stdout",
          "text": [
            "Epoch 1/50\n",
            "14/14 [==============================] - 1s 16ms/step - loss: 0.0830 - val_loss: 0.1341\n",
            "Epoch 2/50\n",
            "14/14 [==============================] - 0s 4ms/step - loss: 0.0802 - val_loss: 0.1304\n",
            "Epoch 3/50\n",
            "14/14 [==============================] - 0s 4ms/step - loss: 0.0776 - val_loss: 0.1270\n",
            "Epoch 4/50\n",
            "14/14 [==============================] - 0s 5ms/step - loss: 0.0753 - val_loss: 0.1239\n",
            "Epoch 5/50\n",
            "14/14 [==============================] - 0s 4ms/step - loss: 0.0731 - val_loss: 0.1212\n",
            "Epoch 6/50\n",
            "14/14 [==============================] - 0s 4ms/step - loss: 0.0711 - val_loss: 0.1187\n",
            "Epoch 7/50\n",
            "14/14 [==============================] - 0s 7ms/step - loss: 0.0694 - val_loss: 0.1164\n",
            "Epoch 8/50\n",
            "14/14 [==============================] - 0s 8ms/step - loss: 0.0678 - val_loss: 0.1143\n",
            "Epoch 9/50\n",
            "14/14 [==============================] - 0s 7ms/step - loss: 0.0663 - val_loss: 0.1121\n",
            "Epoch 10/50\n",
            "14/14 [==============================] - 0s 7ms/step - loss: 0.0648 - val_loss: 0.1100\n",
            "Epoch 11/50\n",
            "14/14 [==============================] - 0s 6ms/step - loss: 0.0634 - val_loss: 0.1080\n",
            "Epoch 12/50\n",
            "14/14 [==============================] - 0s 6ms/step - loss: 0.0621 - val_loss: 0.1060\n",
            "Epoch 13/50\n",
            "14/14 [==============================] - 0s 7ms/step - loss: 0.0608 - val_loss: 0.1040\n",
            "Epoch 14/50\n",
            "14/14 [==============================] - 0s 7ms/step - loss: 0.0596 - val_loss: 0.1021\n",
            "Epoch 15/50\n",
            "14/14 [==============================] - 0s 7ms/step - loss: 0.0584 - val_loss: 0.1003\n",
            "Epoch 16/50\n",
            "14/14 [==============================] - 0s 7ms/step - loss: 0.0572 - val_loss: 0.0985\n",
            "Epoch 17/50\n",
            "14/14 [==============================] - 0s 8ms/step - loss: 0.0561 - val_loss: 0.0967\n",
            "Epoch 18/50\n",
            "14/14 [==============================] - 0s 7ms/step - loss: 0.0550 - val_loss: 0.0950\n",
            "Epoch 19/50\n",
            "14/14 [==============================] - 0s 7ms/step - loss: 0.0539 - val_loss: 0.0932\n",
            "Epoch 20/50\n",
            "14/14 [==============================] - 0s 6ms/step - loss: 0.0529 - val_loss: 0.0915\n",
            "Epoch 21/50\n",
            "14/14 [==============================] - 0s 6ms/step - loss: 0.0519 - val_loss: 0.0899\n",
            "Epoch 22/50\n",
            "14/14 [==============================] - 0s 6ms/step - loss: 0.0509 - val_loss: 0.0883\n",
            "Epoch 23/50\n",
            "14/14 [==============================] - 0s 7ms/step - loss: 0.0500 - val_loss: 0.0868\n",
            "Epoch 24/50\n",
            "14/14 [==============================] - 0s 7ms/step - loss: 0.0490 - val_loss: 0.0852\n",
            "Epoch 25/50\n",
            "14/14 [==============================] - 0s 8ms/step - loss: 0.0481 - val_loss: 0.0837\n",
            "Epoch 26/50\n",
            "14/14 [==============================] - 0s 7ms/step - loss: 0.0472 - val_loss: 0.0822\n",
            "Epoch 27/50\n",
            "14/14 [==============================] - 0s 7ms/step - loss: 0.0464 - val_loss: 0.0808\n",
            "Epoch 28/50\n",
            "14/14 [==============================] - 0s 10ms/step - loss: 0.0456 - val_loss: 0.0794\n",
            "Epoch 29/50\n",
            "14/14 [==============================] - 0s 8ms/step - loss: 0.0447 - val_loss: 0.0780\n",
            "Epoch 30/50\n",
            "14/14 [==============================] - 0s 9ms/step - loss: 0.0439 - val_loss: 0.0766\n",
            "Epoch 31/50\n",
            "14/14 [==============================] - 0s 8ms/step - loss: 0.0432 - val_loss: 0.0753\n",
            "Epoch 32/50\n",
            "14/14 [==============================] - 0s 8ms/step - loss: 0.0424 - val_loss: 0.0740\n",
            "Epoch 33/50\n",
            "14/14 [==============================] - 0s 7ms/step - loss: 0.0417 - val_loss: 0.0727\n",
            "Epoch 34/50\n",
            "14/14 [==============================] - 0s 5ms/step - loss: 0.0410 - val_loss: 0.0715\n",
            "Epoch 35/50\n",
            "14/14 [==============================] - 0s 5ms/step - loss: 0.0403 - val_loss: 0.0703\n",
            "Epoch 36/50\n",
            "14/14 [==============================] - 0s 4ms/step - loss: 0.0396 - val_loss: 0.0691\n",
            "Epoch 37/50\n",
            "14/14 [==============================] - 0s 6ms/step - loss: 0.0390 - val_loss: 0.0679\n",
            "Epoch 38/50\n",
            "14/14 [==============================] - 0s 5ms/step - loss: 0.0383 - val_loss: 0.0668\n",
            "Epoch 39/50\n",
            "14/14 [==============================] - 0s 5ms/step - loss: 0.0377 - val_loss: 0.0657\n",
            "Epoch 40/50\n",
            "14/14 [==============================] - 0s 4ms/step - loss: 0.0371 - val_loss: 0.0646\n",
            "Epoch 41/50\n",
            "14/14 [==============================] - 0s 4ms/step - loss: 0.0365 - val_loss: 0.0635\n",
            "Epoch 42/50\n",
            "14/14 [==============================] - 0s 4ms/step - loss: 0.0359 - val_loss: 0.0625\n",
            "Epoch 43/50\n",
            "14/14 [==============================] - 0s 4ms/step - loss: 0.0354 - val_loss: 0.0615\n",
            "Epoch 44/50\n",
            "14/14 [==============================] - 0s 5ms/step - loss: 0.0348 - val_loss: 0.0605\n",
            "Epoch 45/50\n",
            "14/14 [==============================] - 0s 5ms/step - loss: 0.0343 - val_loss: 0.0595\n",
            "Epoch 46/50\n",
            "14/14 [==============================] - 0s 5ms/step - loss: 0.0338 - val_loss: 0.0585\n",
            "Epoch 47/50\n",
            "14/14 [==============================] - 0s 5ms/step - loss: 0.0333 - val_loss: 0.0576\n",
            "Epoch 48/50\n",
            "14/14 [==============================] - 0s 6ms/step - loss: 0.0328 - val_loss: 0.0567\n",
            "Epoch 49/50\n",
            "14/14 [==============================] - 0s 6ms/step - loss: 0.0323 - val_loss: 0.0558\n",
            "Epoch 50/50\n",
            "14/14 [==============================] - 0s 4ms/step - loss: 0.0318 - val_loss: 0.0549\n"
          ]
        }
      ]
    },
    {
      "cell_type": "code",
      "source": [
        "# Plot training & validation loss values\n",
        "plt.plot(history.history['loss'])\n",
        "plt.plot(history.history['val_loss'])\n",
        "plt.title('Model loss')\n",
        "plt.ylabel('Loss')\n",
        "plt.xlabel('Epoch')\n",
        "plt.legend(['Train', 'Validation'], loc='upper right')\n",
        "plt.show()\n"
      ],
      "metadata": {
        "colab": {
          "base_uri": "https://localhost:8080/",
          "height": 472
        },
        "id": "PgnfLK4sVVSD",
        "outputId": "318a09cd-a5b8-4187-f104-58868aba6486"
      },
      "execution_count": 8,
      "outputs": [
        {
          "output_type": "display_data",
          "data": {
            "text/plain": [
              "<Figure size 640x480 with 1 Axes>"
            ],
            "image/png": "[encoded data removed]"
          },
          "metadata": {}
        }
      ]
    },
    {
      "cell_type": "code",
      "source": [
        "\n",
        "X_train = np.random.rand( input_dim)\n",
        "X_test = np.random.rand(100, input_dim)  # For testing late\n",
        "\n",
        "# Extract the encoder part of the autoencoder\n",
        "encoder = Model(input_layer, encoded)\n",
        "\n",
        "# Encode data for dimensionality reduction\n",
        "encoded_data = encoder.predict(X_test)\n",
        "\n",
        "# Dimensions of the encoded data\n",
        "print(\"Encoded data shape:\", encoded_data.shape)\n"
      ],
      "metadata": {
        "colab": {
          "base_uri": "https://localhost:8080/"
        },
        "id": "HR4l3CPYVko2",
        "outputId": "d1c2328e-a314-4449-dc9e-0ed986d21948"
      },
      "execution_count": 12,
      "outputs": [
        {
          "output_type": "stream",
          "name": "stdout",
          "text": [
            "4/4 [==============================] - 0s 5ms/step\n",
            "Encoded data shape: (100, 5)\n"
          ]
        }
      ]
    }
  ]
}